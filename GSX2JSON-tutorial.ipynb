{
 "cells": [
  {
   "cell_type": "code",
   "execution_count": 20,
   "metadata": {},
   "outputs": [
    {
     "name": "stdout",
     "output_type": "stream",
     "text": [
      "<Response [200]>\n",
      "{'columns': {'Student': ['Melinda', 'Bill', 'Graeme', 'Sophia', 'This is my new customer', 'Mitchal'], 'Age': [24, 30, 99999999, 25, 25, 99], 'GPA': [3.3, 3.4, 3.4, 3, 3.7, 3.6], 'Major': ['Economics', 'Anthropology', 'Statistics', 'Math', 'History', 'Biology']}, 'rows': [{'Student': 'Melinda', 'Age': 24, 'GPA': 3.3, 'Major': 'Economics'}, {'Student': 'Bill', 'Age': 30, 'GPA': 3.4, 'Major': 'Anthropology'}, {'Student': 'Graeme', 'Age': 99999999, 'GPA': 3.4, 'Major': 'Statistics'}, {'Student': 'Sophia', 'Age': 25, 'GPA': 3, 'Major': 'Math'}, {'Student': 'This is my new customer', 'Age': 25, 'GPA': 3.7, 'Major': 'History'}, {'Student': 'Mitchal', 'Age': 99, 'GPA': 3.6, 'Major': 'Biology'}]}\n"
     ]
    }
   ],
   "source": [
    "# https://docs.python-requests.org/en/latest/user/quickstart/\n",
    "# Source: https://docs.google.com/spreadsheets/d/1Di6BD4Qg5wVFqyk55gBqegXCOMuf6UcZnpIvAYDFUdE/edit#gid=0\n",
    "\n",
    "import requests\n",
    "response = requests.get(\n",
    "    \"https://gsx2json.com/api?id=1Di6BD4Qg5wVFqyk55gBqegXCOMuf6UcZnpIvAYDFUdE&sheet=Students\")\n",
    "print(response)\n",
    "\n",
    "\n",
    "res = response.json()\n",
    "print(res)"
   ]
  },
  {
   "cell_type": "code",
   "execution_count": 21,
   "metadata": {},
   "outputs": [
    {
     "data": {
      "text/html": [
       "<div>\n",
       "<style scoped>\n",
       "    .dataframe tbody tr th:only-of-type {\n",
       "        vertical-align: middle;\n",
       "    }\n",
       "\n",
       "    .dataframe tbody tr th {\n",
       "        vertical-align: top;\n",
       "    }\n",
       "\n",
       "    .dataframe thead th {\n",
       "        text-align: right;\n",
       "    }\n",
       "</style>\n",
       "<table border=\"1\" class=\"dataframe\">\n",
       "  <thead>\n",
       "    <tr style=\"text-align: right;\">\n",
       "      <th></th>\n",
       "      <th>Student</th>\n",
       "      <th>Age</th>\n",
       "      <th>GPA</th>\n",
       "      <th>Major</th>\n",
       "    </tr>\n",
       "  </thead>\n",
       "  <tbody>\n",
       "    <tr>\n",
       "      <th>0</th>\n",
       "      <td>Melinda</td>\n",
       "      <td>24</td>\n",
       "      <td>3.3</td>\n",
       "      <td>Economics</td>\n",
       "    </tr>\n",
       "    <tr>\n",
       "      <th>1</th>\n",
       "      <td>Bill</td>\n",
       "      <td>30</td>\n",
       "      <td>3.4</td>\n",
       "      <td>Anthropology</td>\n",
       "    </tr>\n",
       "    <tr>\n",
       "      <th>2</th>\n",
       "      <td>Graeme</td>\n",
       "      <td>99999999</td>\n",
       "      <td>3.4</td>\n",
       "      <td>Statistics</td>\n",
       "    </tr>\n",
       "    <tr>\n",
       "      <th>3</th>\n",
       "      <td>Sophia</td>\n",
       "      <td>25</td>\n",
       "      <td>3.0</td>\n",
       "      <td>Math</td>\n",
       "    </tr>\n",
       "    <tr>\n",
       "      <th>4</th>\n",
       "      <td>This is my new customer</td>\n",
       "      <td>25</td>\n",
       "      <td>3.7</td>\n",
       "      <td>History</td>\n",
       "    </tr>\n",
       "    <tr>\n",
       "      <th>5</th>\n",
       "      <td>Mitchal</td>\n",
       "      <td>99</td>\n",
       "      <td>3.6</td>\n",
       "      <td>Biology</td>\n",
       "    </tr>\n",
       "  </tbody>\n",
       "</table>\n",
       "</div>"
      ],
      "text/plain": [
       "                   Student       Age  GPA         Major\n",
       "0                  Melinda        24  3.3     Economics\n",
       "1                     Bill        30  3.4  Anthropology\n",
       "2                   Graeme  99999999  3.4    Statistics\n",
       "3                   Sophia        25  3.0          Math\n",
       "4  This is my new customer        25  3.7       History\n",
       "5                  Mitchal        99  3.6       Biology"
      ]
     },
     "execution_count": 21,
     "metadata": {},
     "output_type": "execute_result"
    }
   ],
   "source": [
    "import pandas as pd\n",
    "# The original data dictionary\n",
    "data = {\n",
    "   'columns':  res['columns'],\n",
    "   'rows': res['rows']\n",
    "}\n",
    "\n",
    "# Create a DataFrame from the rows\n",
    "df = pd.DataFrame(data['rows'])\n",
    "\n",
    "\n",
    "df"
   ]
  }
 ],
 "metadata": {
  "kernelspec": {
   "display_name": "datascience",
   "language": "python",
   "name": "python3"
  },
  "language_info": {
   "codemirror_mode": {
    "name": "ipython",
    "version": 3
   },
   "file_extension": ".py",
   "mimetype": "text/x-python",
   "name": "python",
   "nbconvert_exporter": "python",
   "pygments_lexer": "ipython3",
   "version": "3.9.18"
  },
  "orig_nbformat": 4
 },
 "nbformat": 4,
 "nbformat_minor": 2
}
